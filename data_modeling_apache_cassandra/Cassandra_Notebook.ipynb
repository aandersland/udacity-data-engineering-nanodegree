{
 "cells": [
  {
   "cell_type": "markdown",
   "metadata": {},
   "source": [
    "# Part I. ETL Pipeline for Pre-Processing the Files"
   ]
  },
  {
   "cell_type": "code",
   "execution_count": 14,
   "metadata": {},
   "outputs": [],
   "source": [
    "# Import Python packages\n",
    "import pandas as pd\n",
    "import os\n",
    "import glob\n",
    "import csv\n",
    "from cassandra.cluster import Cluster"
   ]
  },
  {
   "cell_type": "markdown",
   "metadata": {},
   "source": [
    "## Setup predefined SQL statements"
   ]
  },
  {
   "cell_type": "code",
   "execution_count": 15,
   "metadata": {},
   "outputs": [],
   "source": [
    "# DROP TABLES\n",
    "drop_session_song_play = \"DROP TABLE IF EXISTS session_song_play\"\n",
    "drop_session_song_play_list = \"DROP TABLE IF EXISTS session_song_play_list\"\n",
    "drop_session_play_artist = \"DROP TABLE IF EXISTS session_play_artist\""
   ]
  },
  {
   "cell_type": "markdown",
   "metadata": {},
   "source": [
    "## Session Song Play Table\n",
    "The session song play table will have a primary key of session_id and item_in_session to ensure the records are unique. It will also enable us to tailor this to the request of knowing song information based on a session id and an item in session value."
   ]
  },
  {
   "cell_type": "code",
   "execution_count": 16,
   "metadata": {},
   "outputs": [],
   "source": [
    "# CREATE TABLE\n",
    "create_session_song_play = (\"CREATE TABLE IF NOT EXISTS session_song_play \\\n",
    "(session_id int, item_in_session int, artist text, song_title text, \\\n",
    "song_length float, PRIMARY KEY (session_id, item_in_session))\")"
   ]
  },
  {
   "cell_type": "markdown",
   "metadata": {},
   "source": [
    "## Session Song Play List Table\n",
    "The session song play list table will have a primary key of user_id and session_id to ensure the records are unique. The item_in_session value will be a clustering column to sort the data. This is also to tailor the table to the requests of knowing data based on a provided user id and session id."
   ]
  },
  {
   "cell_type": "code",
   "execution_count": 17,
   "metadata": {},
   "outputs": [],
   "source": [
    "# CREATE TABLE\n",
    "create_session_song_play_list = (\"CREATE TABLE IF NOT EXISTS \\\n",
    "session_song_play_list \\\n",
    "(user_id int, session_id int, item_in_session int, artist text, \\\n",
    "song_title text, first_name text, last_name text, \\\n",
    "PRIMARY KEY ((user_id, session_id), item_in_session))\")"
   ]
  },
  {
   "cell_type": "markdown",
   "metadata": {},
   "source": [
    "## Session Play Artist Table\n",
    "The session play artist table will have a primary key of song_title and user_id to ensure the records are unique. It will also enable us to tailor this to the request of knowing song information based on a song title."
   ]
  },
  {
   "cell_type": "code",
   "execution_count": 18,
   "metadata": {},
   "outputs": [],
   "source": [
    "# CREATE TABLE\n",
    "create_session_play_artist = (\"CREATE TABLE IF NOT EXISTS session_play_artist \\\n",
    "(song_title text, user_id int, first_name text, last_name text, \\\n",
    "PRIMARY KEY (song_title, user_id))\")"
   ]
  },
  {
   "cell_type": "code",
   "execution_count": 19,
   "metadata": {},
   "outputs": [],
   "source": [
    "# INSERT RECORDS\n",
    "insert_session_song_play = (\"INSERT INTO session_song_play \\\n",
    "(session_id, item_in_session, artist, song_title, song_length) \\\n",
    "VALUES (%s, %s, %s, %s, %s)\")\n",
    "\n",
    "insert_session_song_play_list = (\"INSERT INTO session_song_play_list \\\n",
    "(user_id, session_id, item_in_session, artist, song_title, first_name, \\\n",
    "last_name) VALUES (%s, %s, %s, %s, %s, %s, %s)\")\n",
    "\n",
    "insert_session_play_artist = (\"INSERT INTO session_play_artist \\\n",
    "(song_title, user_id, first_name, last_name) \\\n",
    "VALUES (%s, %s, %s, %s)\")\n",
    "\n",
    "# SELECT RECORDS\n",
    "select_session_song_play = (\"SELECT artist, song_title, song_length \\\n",
    "FROM session_song_play WHERE session_id = 338 and item_in_session = 4;\")\n",
    "\n",
    "select_session_song_play_list = (\"SELECT artist, song_title, first_name, \\\n",
    "last_name FROM session_song_play_list WHERE user_id = 10 and \\\n",
    "session_id = 182;\")\n",
    "\n",
    "select_session_play_artist = (\"SELECT first_name, last_name \\\n",
    "FROM session_play_artist WHERE song_title = 'All Hands Against His Own';\")\n",
    "\n",
    "# QUERY LISTS\n",
    "create_table_queries = [create_session_play_artist, create_session_song_play,\n",
    "                        create_session_song_play_list]\n",
    "drop_table_queries = [drop_session_play_artist, drop_session_song_play,\n",
    "                      drop_session_song_play_list]\n"
   ]
  },
  {
   "cell_type": "markdown",
   "metadata": {},
   "source": [
    "## Setup database helper methods"
   ]
  },
  {
   "cell_type": "code",
   "execution_count": 20,
   "metadata": {},
   "outputs": [],
   "source": [
    "def create_db_connection(_db_name):\n",
    "    \"\"\"\n",
    "    Creates a database connection\n",
    "    :param _db_name: Name of database to connect too\n",
    "    :return: Database session\n",
    "    \"\"\"\n",
    "    _cluster = Cluster(['localhost'])\n",
    "    _session = _cluster.connect()\n",
    "\n",
    "    _session.execute(\"CREATE KEYSPACE IF NOT EXISTS \" + _db_name +\n",
    "                     \" WITH REPLICATION = { 'class' : 'SimpleStrategy', \\\n",
    "                     'replication_factor' : 1 }\")\n",
    "    _session.set_keyspace(_db_name)\n",
    "    return _session, _cluster\n",
    "\n",
    "\n",
    "def drop_tables(_session):\n",
    "    \"\"\"\n",
    "    Drop pre-defined tables\n",
    "    :param _session: Session to database\n",
    "    \"\"\"\n",
    "    print('Dropping tables . . .')\n",
    "    for _query in drop_table_queries:\n",
    "        _session.execute(_query)\n",
    "\n",
    "\n",
    "def create_tables(_session):\n",
    "    \"\"\"\n",
    "    Create a pre-defined list of tables\n",
    "    :param _session: Session to database\n",
    "    \"\"\"\n",
    "    print('Creating tables. . .')\n",
    "    for _query in create_table_queries:\n",
    "        _session.execute(_query)\n",
    "\n",
    "\n",
    "def query_table(_session, _query):\n",
    "    \"\"\"\n",
    "    Method to run a query\n",
    "    :param _session: Session to database\n",
    "    :param _query: Query to run\n",
    "    :return: Database rows from the result set\n",
    "    \"\"\"\n",
    "    _rows = _session.execute(_query)\n",
    "    return _rows\n",
    "\n",
    "\n",
    "def insert_record_into_table(_session, _query, _values):\n",
    "    \"\"\"\n",
    "    Method to insert records into a table\n",
    "    :param _session: Session to database\n",
    "    :param _query: Query to run\n",
    "    :param _values: Values to be inserted\n",
    "    \"\"\"\n",
    "    _session.execute(_query, _values)"
   ]
  },
  {
   "cell_type": "markdown",
   "metadata": {},
   "source": [
    "## Setup helper methods"
   ]
  },
  {
   "cell_type": "code",
   "execution_count": 21,
   "metadata": {},
   "outputs": [],
   "source": [
    "def get_file_path_list(_filepath):\n",
    "    \"\"\"\n",
    "    Generates a list of file paths for a given directory\n",
    "    :param _filepath: Folder directory path\n",
    "    :return: List of file paths\n",
    "    \"\"\"\n",
    "    _file_path_list = []\n",
    "    # Create a for loop to create a list of files and collect each filepath\n",
    "    for root, dirs, files in os.walk(_filepath):\n",
    "        # join the file path and roots with the subdirectories using glob\n",
    "        _file_path_list = glob.glob(os.path.join(root, '*'))\n",
    "    return _file_path_list\n",
    "\n",
    "def get_full_file_path_data(_file_path_list):\n",
    "    \"\"\"\n",
    "    Create a list of data rows from a list of file paths\n",
    "    :param _file_path_list: List of file paths\n",
    "    :return: List of data rows\n",
    "    \"\"\"\n",
    "    # initiating an empty list of rows that will be generated from each file\n",
    "    _full_data_rows_list = []\n",
    "\n",
    "    # for every filepath in the file path list\n",
    "    for _f in _file_path_list:\n",
    "\n",
    "        # reading csv file\n",
    "        with open(_f, 'r', encoding='utf8', newline='') as _csvfile:\n",
    "            # creating a csv reader object\n",
    "            _csvreader = csv.reader(_csvfile)\n",
    "            next(_csvreader)\n",
    "\n",
    "            # extracting each data row one by one and append it\n",
    "            for _line in _csvreader:\n",
    "                _full_data_rows_list.append(_line)\n",
    "    return _full_data_rows_list\n",
    "\n",
    "def get_event_data_for_import(_full_data_rows_list, _event_data_file_path):\n",
    "    \"\"\"\n",
    "    Parses the event data rows and produces a new list with only the needed\n",
    "    columns for inserting into cassandra\n",
    "    :param _full_data_rows_list: List of data rows\n",
    "    :param _event_data_file_path: File path that the data will be written too\n",
    "    \"\"\"\n",
    "    # creating a smaller event data csv file called event_datafile_full csv\n",
    "    # that will be used to insert data into the \\\n",
    "    # Apache Cassandra tables\n",
    "    csv.register_dialect('myDialect', quoting=csv.QUOTE_ALL,\n",
    "                         skipinitialspace=True)\n",
    "    if os.path.exists(_event_data_file_path):\n",
    "        print('Removing existing file: ', _event_data_file_path)\n",
    "        os.remove(_event_data_file_path)\n",
    "\n",
    "    with open(_event_data_file_path, 'w+', encoding='utf8', newline='') as f:\n",
    "        writer = csv.writer(f, dialect='myDialect')\n",
    "        writer.writerow(\n",
    "            ['artist', 'firstName', 'gender', 'itemInSession', 'lastName',\n",
    "             'length', 'level', 'location', 'sessionId', 'song', 'userId'])\n",
    "        for row in full_data_rows_list:\n",
    "            if row[0] == '':\n",
    "                continue\n",
    "            writer.writerow(\n",
    "                (row[0], row[2], row[3], row[4], row[5], row[6], row[7],\n",
    "                 row[8], row[12], row[13], row[16]))\n",
    "        f.close()\n",
    "    \n",
    "    # check the number of rows in your csv file\n",
    "    with open(_event_data_file_path, 'r', encoding='utf8') as f:\n",
    "        print('Created file: ', _event_data_file_path, ' Total rows: ',\n",
    "              sum(1 for line in f))\n",
    "    f.close()"
   ]
  },
  {
   "cell_type": "markdown",
   "metadata": {},
   "source": [
    "## Prepare event data file"
   ]
  },
  {
   "cell_type": "code",
   "execution_count": 22,
   "metadata": {},
   "outputs": [
    {
     "name": "stdout",
     "output_type": "stream",
     "text": [
      "Starting etl script. . .\n",
      "\n",
      "Preparing data file. . .\n",
      "Current directory:  /home/workspace\n",
      "Data row length:  8056\n",
      "Removing existing file:  /home/workspace/event_datafile_new.csv\n",
      "Created file:  /home/workspace/event_datafile_new.csv  Total rows:  6821\n"
     ]
    }
   ],
   "source": [
    "# checking your current working directory\n",
    "print('Starting etl script. . .')\n",
    "print('\\nPreparing data file. . .')\n",
    "print('Current directory: ', os.getcwd())\n",
    "\n",
    "# Get your current folder and subfolder event data\n",
    "# filepath = os.getcwd() + '/event_data'\n",
    "filepath = 'event_data'\n",
    "\n",
    "file_path_list = get_file_path_list(filepath)\n",
    "full_data_rows_list = get_full_file_path_data(file_path_list)\n",
    "\n",
    "# uncomment the code below if you would like to get total number of rows\n",
    "print('Data row length: ', len(full_data_rows_list))\n",
    "\n",
    "event_data_file = '/home/workspace/event_datafile_new.csv'\n",
    "get_event_data_for_import(full_data_rows_list, event_data_file)"
   ]
  },
  {
   "cell_type": "markdown",
   "metadata": {},
   "source": [
    "# Part II. Complete the Apache Cassandra coding portion of your project. "
   ]
  },
  {
   "cell_type": "code",
   "execution_count": 23,
   "metadata": {},
   "outputs": [],
   "source": [
    "def parse_data_file_insert_db(_session, _event_data_file):\n",
    "    \"\"\"\n",
    "    Loop through data file and insert records into the database\n",
    "    :param _session: Session to database\n",
    "    :param _event_data_file: Data file\n",
    "    \"\"\"\n",
    "    df = pd.read_csv(_event_data_file)\n",
    "    # df.info()\n",
    "    for index, row in df.iterrows():\n",
    "        # insert records into the session_song_play table\n",
    "        _session_song_play_values = (\n",
    "            row['sessionId'], row['itemInSession'], row['artist'], row['song'],\n",
    "            row['length'])\n",
    "        insert_record_into_table(\n",
    "            _session,\n",
    "            insert_session_song_play,\n",
    "            _session_song_play_values)\n",
    "\n",
    "        # insert records into the session_song_play_list table\n",
    "        _session_song_play_list_values = (\n",
    "            row['userId'], row['sessionId'], row['itemInSession'],\n",
    "            row['artist'],\n",
    "            row['song'], row['firstName'], row['lastName'])\n",
    "        insert_record_into_table(\n",
    "            _session,\n",
    "            insert_session_song_play_list,\n",
    "            _session_song_play_list_values)\n",
    "\n",
    "        # insert records into the session_play_artist table\n",
    "        _session_play_artist_values = (\n",
    "            row['song'], row['userId'], row['firstName'], row['lastName'])\n",
    "        insert_record_into_table(\n",
    "            _session,\n",
    "            insert_session_play_artist,\n",
    "            _session_play_artist_values)\n",
    "\n",
    "def query_data(_session, _query, _question):\n",
    "    _rows = query_table(_session, _query)\n",
    "\n",
    "    # print('Printing rows. . . ')\n",
    "    for _row in _rows:\n",
    "        if _question == 1:\n",
    "            print(\n",
    "                \"The song played during sessionId = 338, and itemInSession = 4 was - artist: \",\n",
    "                _row.artist, \" song title: \", _row.song_title,\n",
    "                \"  song length:\",\n",
    "                _row.song_length)\n",
    "        elif _question == 2:\n",
    "            print(_row.first_name, _row.last_name, 'played the song:',\n",
    "                  _row.song_title, 'from artist:', _row.artist,\n",
    "                  'during session id 182')\n",
    "        elif _question == 3:\n",
    "            print(_row.first_name, _row.last_name,\n",
    "                  \" listened to the song 'All Hands Against His Own'.\")"
   ]
  },
  {
   "cell_type": "markdown",
   "metadata": {},
   "source": [
    "## Create a cluster, keyspace, drop/create tables"
   ]
  },
  {
   "cell_type": "code",
   "execution_count": 24,
   "metadata": {},
   "outputs": [
    {
     "name": "stdout",
     "output_type": "stream",
     "text": [
      "\n",
      "Setting up database connection to sparkifydb\n",
      "Dropping tables . . .\n",
      "Creating tables. . .\n"
     ]
    }
   ],
   "source": [
    "print('\\nSetting up database connection to sparkifydb')\n",
    "session, cluster = create_db_connection('sparkifydb')\n",
    "drop_tables(session)\n",
    "create_tables(session)"
   ]
  },
  {
   "cell_type": "markdown",
   "metadata": {},
   "source": [
    "## Insert data into tables"
   ]
  },
  {
   "cell_type": "code",
   "execution_count": null,
   "metadata": {},
   "outputs": [
    {
     "name": "stdout",
     "output_type": "stream",
     "text": [
      "Parsing data to tables. . .\n"
     ]
    }
   ],
   "source": [
    "print('Parsing data to tables. . .')\n",
    "parse_data_file_insert_db(session, event_data_file)"
   ]
  },
  {
   "cell_type": "markdown",
   "metadata": {},
   "source": [
    "### 1. Give me the artist, song title and song's length in the music app history that was heard during  sessionId = 338, and itemInSession  = 4"
   ]
  },
  {
   "cell_type": "code",
   "execution_count": 9,
   "metadata": {},
   "outputs": [
    {
     "name": "stdout",
     "output_type": "stream",
     "text": [
      "The song played during sessionId = 338, and itemInSession = 4 was - artist:  Faithless  song title:  Music Matters (Mark Knight Dub)   song length: 495.30731201171875\n"
     ]
    }
   ],
   "source": [
    "query_data(session, select_session_song_play, 1)"
   ]
  },
  {
   "cell_type": "markdown",
   "metadata": {},
   "source": [
    "### 2. Give me only the following: name of artist, song (sorted by itemInSession) and user (first and last name) for userid = 10, sessionid = 182\n"
   ]
  },
  {
   "cell_type": "code",
   "execution_count": 10,
   "metadata": {},
   "outputs": [
    {
     "name": "stdout",
     "output_type": "stream",
     "text": [
      "Sylvie Cruz played the song: Keep On Keepin' On from artist: Down To The Bone during session id 182\n",
      "Sylvie Cruz played the song: Greece 2000 from artist: Three Drives during session id 182\n",
      "Sylvie Cruz played the song: Kilometer from artist: Sebastien Tellier during session id 182\n",
      "Sylvie Cruz played the song: Catch You Baby (Steve Pitron & Max Sanna Radio Edit) from artist: Lonnie Gordon during session id 182\n"
     ]
    }
   ],
   "source": [
    "query_data(session, select_session_song_play_list, 2)"
   ]
  },
  {
   "cell_type": "markdown",
   "metadata": {},
   "source": [
    "### 3. Give me every user name (first and last) in my music app history who listened to the song 'All Hands Against His Own'\n"
   ]
  },
  {
   "cell_type": "code",
   "execution_count": 11,
   "metadata": {},
   "outputs": [
    {
     "name": "stdout",
     "output_type": "stream",
     "text": [
      "Jacqueline Lynch  listened to the song 'All Hands Against His Own'.\n",
      "Tegan Levine  listened to the song 'All Hands Against His Own'.\n",
      "Sara Johnson  listened to the song 'All Hands Against His Own'.\n"
     ]
    }
   ],
   "source": [
    "query_data(session, select_session_play_artist, 3)"
   ]
  },
  {
   "cell_type": "markdown",
   "metadata": {},
   "source": [
    "### Drop the tables before closing out the sessions"
   ]
  },
  {
   "cell_type": "code",
   "execution_count": 12,
   "metadata": {},
   "outputs": [
    {
     "name": "stdout",
     "output_type": "stream",
     "text": [
      "Dropping tables . . .\n"
     ]
    }
   ],
   "source": [
    "drop_tables(session)"
   ]
  },
  {
   "cell_type": "markdown",
   "metadata": {},
   "source": [
    "### Close the session and cluster connection¶"
   ]
  },
  {
   "cell_type": "code",
   "execution_count": 13,
   "metadata": {},
   "outputs": [],
   "source": [
    "session.shutdown()\n",
    "cluster.shutdown()"
   ]
  },
  {
   "cell_type": "code",
   "execution_count": null,
   "metadata": {},
   "outputs": [],
   "source": []
  }
 ],
 "metadata": {
  "kernelspec": {
   "display_name": "Python 3",
   "language": "python",
   "name": "python3"
  },
  "language_info": {
   "codemirror_mode": {
    "name": "ipython",
    "version": 3
   },
   "file_extension": ".py",
   "mimetype": "text/x-python",
   "name": "python",
   "nbconvert_exporter": "python",
   "pygments_lexer": "ipython3",
   "version": "3.6.3"
  }
 },
 "nbformat": 4,
 "nbformat_minor": 2
}
